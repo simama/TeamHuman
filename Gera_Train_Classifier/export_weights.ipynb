{
 "cells": [
  {
   "cell_type": "code",
   "execution_count": 65,
   "metadata": {
    "collapsed": false
   },
   "outputs": [
    {
     "ename": "IOError",
     "evalue": "[Errno 2] No such file or directory: './savefile.prm'",
     "output_type": "error",
     "traceback": [
      "\u001b[0;31m---------------------------------------------------------------------------\u001b[0m",
      "\u001b[0;31mIOError\u001b[0m                                   Traceback (most recent call last)",
      "\u001b[0;32m<ipython-input-65-6d7864f4c634>\u001b[0m in \u001b[0;36m<module>\u001b[0;34m()\u001b[0m\n\u001b[1;32m     35\u001b[0m \u001b[0;34m\u001b[0m\u001b[0m\n\u001b[1;32m     36\u001b[0m \u001b[0;34m\u001b[0m\u001b[0m\n\u001b[0;32m---> 37\u001b[0;31m \u001b[0mweights\u001b[0m \u001b[0;34m=\u001b[0m \u001b[0mgetweights\u001b[0m\u001b[0;34m(\u001b[0m\u001b[0;34m'./savefile.prm'\u001b[0m\u001b[0;34m,\u001b[0m \u001b[0mTrue\u001b[0m\u001b[0;34m)\u001b[0m\u001b[0;34m\u001b[0m\u001b[0m\n\u001b[0m\u001b[1;32m     38\u001b[0m \u001b[0;34m\u001b[0m\u001b[0m\n\u001b[1;32m     39\u001b[0m \u001b[0moutputPath\u001b[0m \u001b[0;34m=\u001b[0m \u001b[0;34m\"weightFile.txt\"\u001b[0m\u001b[0;34m\u001b[0m\u001b[0m\n",
      "\u001b[0;32m<ipython-input-65-6d7864f4c634>\u001b[0m in \u001b[0;36mgetweights\u001b[0;34m(file_name, verbose, debug)\u001b[0m\n\u001b[1;32m      7\u001b[0m     \u001b[0mvec\u001b[0m \u001b[0;34m=\u001b[0m \u001b[0;34m[\u001b[0m\u001b[0;34m]\u001b[0m\u001b[0;34m\u001b[0m\u001b[0m\n\u001b[1;32m      8\u001b[0m     \u001b[0;31m# Load a stored model file from disk (should have extension prm)\u001b[0m\u001b[0;34m\u001b[0m\u001b[0;34m\u001b[0m\u001b[0m\n\u001b[0;32m----> 9\u001b[0;31m     \u001b[0mparams\u001b[0m \u001b[0;34m=\u001b[0m \u001b[0mpkl\u001b[0m\u001b[0;34m.\u001b[0m\u001b[0mload\u001b[0m\u001b[0;34m(\u001b[0m\u001b[0mopen\u001b[0m\u001b[0;34m(\u001b[0m\u001b[0mfile_name\u001b[0m\u001b[0;34m,\u001b[0m \u001b[0;34m'r'\u001b[0m\u001b[0;34m)\u001b[0m\u001b[0;34m)\u001b[0m\u001b[0;34m\u001b[0m\u001b[0m\n\u001b[0m\u001b[1;32m     10\u001b[0m \u001b[0;34m\u001b[0m\u001b[0m\n\u001b[1;32m     11\u001b[0m     \u001b[0mweights\u001b[0m \u001b[0;34m=\u001b[0m \u001b[0;34m[\u001b[0m\u001b[0;34m]\u001b[0m\u001b[0;34m\u001b[0m\u001b[0m\n",
      "\u001b[0;31mIOError\u001b[0m: [Errno 2] No such file or directory: './savefile.prm'"
     ]
    }
   ],
   "source": [
    "import numpy as np\n",
    "import sys\n",
    "import pickle as pkl\n",
    "\n",
    "\n",
    "def getweights(file_name, verbose=False, debug = False):\n",
    "    vec = []\n",
    "    # Load a stored model file from disk (should have extension prm)\n",
    "    params = pkl.load(open(file_name, 'r'))    \n",
    "\n",
    "    weights = []\n",
    "    \n",
    "    for i in range(2):\n",
    "        layer_index = i\n",
    "        layer = params['layer_params_states'][layer_index]\n",
    "        query = layer['params']['W'] \n",
    "        name = layer['params']['name']\n",
    "        \n",
    "        if(debug):\n",
    "            print \"Layer \" , name\n",
    "            print \"Layer len()\" , len(layer)\n",
    "            print \"Num states \", len(layer[\"states\"][0])\n",
    "            print \"Width of state\",len(layer[\"states\"][0][0])\n",
    "            print \"Num weights\", len(query)\n",
    "            print \"Width weights\", len(query[0])\n",
    "            print query\n",
    "        \n",
    "        for node in query:\n",
    "            weights.extend(node)\n",
    "    if(verbose):\n",
    "        print \"Expected num Weights:\", 700*1921 + 700  * 2\n",
    "        print \"Print actual num Weights\", len(weights)\n",
    "        \n",
    "    return weights\n",
    "\n",
    "\n",
    "weights = getweights('./savefile.prm', True)\n",
    "\n",
    "outputPath = \"weightFile.txt\"\n",
    "with open(outputPath) as outputFile:\n",
    "    for w in weights:\n",
    "        file.write(w)\n",
    "        file.write(\"w\")\n",
    "\n"
   ]
  },
  {
   "cell_type": "code",
   "execution_count": null,
   "metadata": {
    "collapsed": true
   },
   "outputs": [],
   "source": []
  }
 ],
 "metadata": {
  "kernelspec": {
   "display_name": "Python 2",
   "language": "python",
   "name": "python2"
  },
  "language_info": {
   "codemirror_mode": {
    "name": "ipython",
    "version": 2
   },
   "file_extension": ".py",
   "mimetype": "text/x-python",
   "name": "python",
   "nbconvert_exporter": "python",
   "pygments_lexer": "ipython2",
   "version": "2.7.10"
  }
 },
 "nbformat": 4,
 "nbformat_minor": 0
}
