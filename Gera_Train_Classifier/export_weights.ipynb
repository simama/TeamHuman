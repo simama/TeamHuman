{
 "cells": [
  {
   "cell_type": "code",
   "execution_count": 63,
   "metadata": {
    "collapsed": false
   },
   "outputs": [
    {
     "name": "stdout",
     "output_type": "stream",
     "text": [
      "Expected num Weights: 1346100\n",
      "Print actual num Weights 1346100\n"
     ]
    }
   ],
   "source": [
    "import numpy as np\n",
    "import sys\n",
    "import pickle as pkl\n",
    "\n",
    "\n",
    "def getweights(file_name, verbose=False, debug = False):\n",
    "    vec = []\n",
    "    # Load a stored model file from disk (should have extension prm)\n",
    "    params = pkl.load(open(file_name, 'r'))    \n",
    "\n",
    "    weights = []\n",
    "    \n",
    "    for i in range(2):\n",
    "        layer_index = i\n",
    "        layer = params['layer_params_states'][layer_index]\n",
    "        query = layer['params']['W'] \n",
    "        name = layer['params']['name']\n",
    "        \n",
    "        if(debug):\n",
    "            print \"Layer \" , name\n",
    "            print \"Layer len()\" , len(layer)\n",
    "            print \"Num states \", len(layer[\"states\"][0])\n",
    "            print \"Width of state\",len(layer[\"states\"][0][0])\n",
    "            print \"Num weights\", len(query)\n",
    "            print \"Width weights\", len(query[0])\n",
    "            print query\n",
    "        \n",
    "        for node in query:\n",
    "            weights.extend(node)\n",
    "    if(verbose):\n",
    "        print \"Expected num Weights:\", 700*1921 + 700  * 2\n",
    "        print \"Print actual num Weights\", len(weights)\n",
    "        \n",
    "    return weights\n",
    "\n",
    "\n",
    "weights = getweights('./savefile.prm', True)\n",
    "\n",
    "\n"
   ]
  },
  {
   "cell_type": "code",
   "execution_count": null,
   "metadata": {
    "collapsed": true
   },
   "outputs": [],
   "source": []
  }
 ],
 "metadata": {
  "kernelspec": {
   "display_name": "Python 2",
   "language": "python",
   "name": "python2"
  },
  "language_info": {
   "codemirror_mode": {
    "name": "ipython",
    "version": 2
   },
   "file_extension": ".py",
   "mimetype": "text/x-python",
   "name": "python",
   "nbconvert_exporter": "python",
   "pygments_lexer": "ipython2",
   "version": "2.7.10"
  }
 },
 "nbformat": 4,
 "nbformat_minor": 0
}
